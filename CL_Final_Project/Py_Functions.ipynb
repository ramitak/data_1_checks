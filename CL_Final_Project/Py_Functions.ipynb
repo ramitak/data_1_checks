{
 "cells": [
  {
   "cell_type": "markdown",
   "metadata": {},
   "source": [
    "# Using a python built-in functions to find something about the data"
   ]
  },
  {
   "cell_type": "code",
   "execution_count": 1,
   "metadata": {},
   "outputs": [],
   "source": [
    "import numpy as np\n",
    "import pandas as pd\n",
    "\n",
    "import matplotlib as mpl\n",
    "import matplotlib.pyplot as plt"
   ]
  },
  {
   "cell_type": "code",
   "execution_count": null,
   "metadata": {},
   "outputs": [
    {
     "name": "stdout",
     "output_type": "stream",
     "text": [
      "250\n",
      "At least one movie has a rating above 7.0\n"
     ]
    }
   ],
   "source": [
    "#Using a python built-in functions to find the lenght of something\n",
    "\n",
    "#First Loading my data from a csv file\n",
    "df = pd.read_csv('assets/movies_data.csv')\n",
    "\n",
    "#Using len() function to find the number of movies\n",
    "#Getting the number of movies in my dataset\n",
    "num_movies = len(df)\n",
    "\n",
    "print(num_movies)\n",
    "\n",
    "#Using any() function to find the ratings that are above 7.0\n",
    "ratings = df['rating']\n",
    "if any(rating > 7.0 for rating in ratings):\n",
    "    print('At least one movie has a rating above 7.0')\n",
    "else:\n",
    "    print('No movie has a rating above 7.0')\n",
    "\n",
    "    "
   ]
  },
  {
   "cell_type": "code",
   "execution_count": 6,
   "metadata": {},
   "outputs": [
    {
     "name": "stdout",
     "output_type": "stream",
     "text": [
      "[('The Shawshank Redemption', 9.3, 1994), ('The Godfather', 9.2, 1972), ('The Dark Knight', 9.0, 2008), ('The Godfather Part II', 9.0, 1974), ('12 Angry Men', 9.0, 1957), (\"Schindler's List\", 9.0, 1993), ('The Lord of the Rings: The Return of the King', 9.0, 2003), ('Pulp Fiction', 8.9, 1994), ('The Lord of the Rings: The Fellowship of the Ring', 8.8, 2001), ('The Good, the Bad and the Ugly', 8.8, 1966), ('Forrest Gump', 8.8, 1994), ('Fight Club', 8.8, 1999), ('The Lord of the Rings: The Two Towers', 8.8, 2002), ('Inception', 8.8, 2010), ('Star Wars: Episode V - The Empire Strikes Back', 8.7, 1980), ('The Matrix', 8.7, 1999), ('Goodfellas', 8.7, 1990), (\"One Flew Over the Cuckoo's Nest\", 8.7, 1975), ('Se7en', 8.6, 1995), ('Seven Samurai', 8.6, 1954), (\"It's a Wonderful Life\", 8.6, 1946), ('The Silence of the Lambs', 8.6, 1991), ('City of God', 8.6, 2002), ('Saving Private Ryan', 8.6, 1998), ('Interstellar', 8.6, 2014), ('Life Is Beautiful', 8.6, 1997), ('The Green Mile', 8.6, 1999), ('Star Wars: Episode IV - A New Hope', 8.6, 1977), ('Terminator 2: Judgment Day', 8.6, 1991), ('Back to the Future', 8.5, 1985), ('Spirited Away', 8.6, 2001), ('The Pianist', 8.5, 2002), ('Psycho', 8.5, 1960), ('Parasite', 8.5, 2019), ('Léon: The Professional', 8.5, 1994), ('The Lion King', 8.5, 1994), ('Gladiator', 8.5, 2000), ('American History X', 8.5, 1998), ('The Departed', 8.5, 2006), ('The Usual Suspects', 8.5, 1995), ('The Prestige', 8.5, 2006), ('Whiplash', 8.5, 2014), ('Casablanca', 8.5, 1942), ('Grave of the Fireflies', 8.5, 1988), ('Harakiri', 8.6, 1962), ('The Intouchables', 8.5, 2011), ('Modern Times', 8.5, 1936), ('Once Upon a Time in the West', 8.5, 1968), ('Rear Window', 8.5, 1954), ('Cinema Paradiso', 8.5, 1988), ('Alien', 8.5, 1979), ('City Lights', 8.5, 1931), ('Apocalypse Now', 8.5, 1979), ('Memento', 8.4, 2000), ('Django Unchained', 8.4, 2012), ('Indiana Jones and the Raiders of the Lost Ark', 8.4, 1981), ('WALL·E', 8.4, 2008), ('The Lives of Others', 8.4, 2006), ('Sunset Blvd.', 8.4, 1950), ('Paths of Glory', 8.4, 1957), ('The Shining', 8.4, 1980), ('The Great Dictator', 8.4, 1940), ('Avengers: Infinity War', 8.4, 2018), ('Witness for the Prosecution', 8.4, 1957), ('Aliens', 8.4, 1986), ('Spider-Man: Into the Spider-Verse', 8.4, 2018), ('American Beauty', 8.4, 1999), ('Dr. Strangelove or: How I Learned to Stop Worrying and Love the Bomb', 8.4, 1964), ('The Dark Knight Rises', 8.4, 2012), ('Oldboy', 8.4, 2003), ('Inglourious Basterds', 8.3, 2009), ('Amadeus', 8.4, 1984), ('Coco', 8.4, 2017), ('Toy Story', 8.3, 1995), ('Joker', 8.4, 2019), ('Braveheart', 8.4, 1995), ('The Boat', 8.4, 1981), ('Avengers: Endgame', 8.4, 2019), ('Princess Mononoke', 8.4, 1997), ('Once Upon a Time in America', 8.3, 1984), ('Good Will Hunting', 8.3, 1997), ('Your Name.', 8.4, 2016), ('3 Idiots', 8.4, 2009), (\"Singin' in the Rain\", 8.3, 1952), ('Requiem for a Dream', 8.3, 2000), ('Toy Story 3', 8.3, 2010), ('High and Low', 8.4, 1963), ('Capernaum', 8.4, 2018), ('Star Wars: Episode VI - Return of the Jedi', 8.3, 1983), ('Eternal Sunshine of the Spotless Mind', 8.3, 2004), ('2001: A Space Odyssey', 8.3, 1968), ('Reservoir Dogs', 8.3, 1992), ('Come and See', 8.4, 1985), ('The Hunt', 8.3, 2012), ('Citizen Kane', 8.3, 1941), ('M', 8.3, 1931), ('Lawrence of Arabia', 8.3, 1962), ('North by Northwest', 8.3, 1959), ('Vertigo', 8.3, 1958), ('Ikiru', 8.3, 1952), ('Amélie', 8.3, 2001), ('The Apartment', 8.3, 1960), ('A Clockwork Orange', 8.3, 1971), ('Double Indemnity', 8.3, 1944), ('Full Metal Jacket', 8.3, 1987), ('Top Gun: Maverick', 8.3, 2022), ('Scarface', 8.3, 1983), ('Hamilton', 8.4, 2020), ('Incendies', 8.3, 2010), ('To Kill a Mockingbird', 8.3, 1962), ('Heat', 8.3, 1995), ('The Sting', 8.3, 1973), ('Up', 8.3, 2009), ('A Separation', 8.3, 2011), ('Metropolis', 8.3, 1927), ('Taxi Driver', 8.2, 1976), ('L.A. Confidential', 8.2, 1997), ('Die Hard', 8.2, 1988), ('Snatch', 8.2, 2000), ('Indiana Jones and the Last Crusade', 8.2, 1989), ('Bicycle Thieves', 8.3, 1948), ('Like Stars on Earth', 8.3, 2007), ('1917', 8.2, 2019), ('Downfall', 8.2, 2004), ('Dangal', 8.3, 2016), ('For a Few Dollars More', 8.2, 1965), ('Batman Begins', 8.2, 2005), ('The Kid', 8.3, 1921), ('Some Like It Hot', 8.2, 1959), ('The Father', 8.2, 2020), ('All About Eve', 8.2, 1950), ('The Wolf of Wall Street', 8.2, 2013), ('Green Book', 8.2, 2018), ('Judgment at Nuremberg', 8.3, 1961), ('Casino', 8.2, 1995), ('Ran', 8.2, 1985), (\"Pan's Labyrinth\", 8.2, 2006), ('The Truman Show', 8.2, 1998), ('There Will Be Blood', 8.2, 2007), ('Unforgiven', 8.2, 1992), ('The Sixth Sense', 8.2, 1999), ('Shutter Island', 8.2, 2010), ('A Beautiful Mind', 8.2, 2001), ('Jurassic Park', 8.2, 1993), ('Yojimbo', 8.2, 1961), ('The Treasure of the Sierra Madre', 8.2, 1948), ('Monty Python and the Holy Grail', 8.2, 1975), ('The Great Escape', 8.2, 1963), ('No Country for Old Men', 8.2, 2007), ('Spider-Man: No Way Home', 8.2, 2021), ('Kill Bill: Vol. 1', 8.2, 2003), ('Rashomon', 8.2, 1950), ('The Thing', 8.2, 1982), ('Finding Nemo', 8.2, 2003), ('The Elephant Man', 8.2, 1980), ('Chinatown', 8.2, 1974), ('Raging Bull', 8.2, 1980), ('V for Vendetta', 8.2, 2005), ('Gone with the Wind', 8.2, 1939), ('Lock, Stock and Two Smoking Barrels', 8.2, 1998), ('Inside Out', 8.2, 2015), ('Dial M for Murder', 8.2, 1954), ('The Secret in Their Eyes', 8.2, 2009), (\"Howl's Moving Castle\", 8.2, 2004), ('Three Billboards Outside Ebbing, Missouri', 8.1, 2017), ('The Bridge on the River Kwai', 8.2, 1957), ('Trainspotting', 8.1, 1996), ('Prisoners', 8.1, 2013), ('Warrior', 8.2, 2011), ('Fargo', 8.1, 1996), ('Gran Torino', 8.1, 2008), ('My Neighbor Totoro', 8.1, 1988), ('Catch Me If You Can', 8.1, 2002), ('Million Dollar Baby', 8.1, 2004), ('Children of Heaven', 8.2, 1997), ('Blade Runner', 8.1, 1982), ('The Gold Rush', 8.1, 1925), ('Before Sunrise', 8.1, 1995), ('12 Years a Slave', 8.1, 2013), ('Klaus', 8.2, 2019), ('Harry Potter and the Deathly Hallows: Part 2', 8.1, 2011), ('On the Waterfront', 8.1, 1954), ('Ben-Hur', 8.1, 1959), ('Gone Girl', 8.1, 2014), ('The Grand Budapest Hotel', 8.1, 2014), ('Wild Strawberries', 8.1, 1957), ('The General', 8.1, 1926), ('The Third Man', 8.1, 1949), ('In the Name of the Father', 8.1, 1993), ('The Deer Hunter', 8.1, 1978), ('Barry Lyndon', 8.1, 1975), ('Hacksaw Ridge', 8.1, 2016), ('The Wages of Fear', 8.2, 1953), ('Memories of Murder', 8.1, 2003), ('Sherlock Jr.', 8.2, 1924), ('Wild Tales', 8.1, 2014), ('Mr. Smith Goes to Washington', 8.1, 1939), ('Mad Max: Fury Road', 8.1, 2015), ('The Seventh Seal', 8.1, 1957), ('Mary and Max', 8.1, 2009), ('How to Train Your Dragon', 8.1, 2010), ('Room', 8.1, 2015), ('Monsters, Inc.', 8.1, 2001), ('Jaws', 8.1, 1975), ('Dead Poets Society', 8.1, 1989), ('The Big Lebowski', 8.1, 1998), ('Tokyo Story', 8.2, 1953), ('The Passion of Joan of Arc', 8.2, 1928), ('Hotel Rwanda', 8.1, 2004), ('Ford v Ferrari', 8.1, 2019), ('Rocky', 8.1, 1976), ('Platoon', 8.1, 1986), ('Ratatouille', 8.1, 2007), ('Spotlight', 8.1, 2015), ('The Terminator', 8.1, 1984), ('Logan', 8.1, 2017), ('Stand by Me', 8.1, 1986), ('Rush', 8.1, 2013), ('Network', 8.1, 1976), ('Into the Wild', 8.1, 2007), ('Before Sunset', 8.1, 2004), ('The Wizard of Oz', 8.1, 1939), ('Pather Panchali', 8.3, 1955), ('Groundhog Day', 8.1, 1993), ('The Best Years of Our Lives', 8.1, 1946), ('The Exorcist', 8.1, 1973), ('The Incredibles', 8.0, 2004), ('To Be or Not to Be', 8.2, 1942), ('La haine', 8.1, 1995), ('The Battle of Algiers', 8.1, 1966), ('Pirates of the Caribbean: The Curse of the Black Pearl', 8.1, 2003), (\"Hachi: A Dog's Tale\", 8.1, 2009), ('The Grapes of Wrath', 8.1, 1940), ('Jai Bhim', 8.8, 2021), ('My Father and My Son', 8.2, 2005), ('Amores Perros', 8.1, 2000), ('Rebecca', 8.1, 1940), ('Cool Hand Luke', 8.1, 1967), ('The Handmaiden', 8.1, 2016), ('The 400 Blows', 8.1, 1959), ('The Sound of Music', 8.1, 1965), ('It Happened One Night', 8.1, 1934), ('Persona', 8.1, 1966), ('Life of Brian', 8.0, 1979), ('The Iron Giant', 8.1, 1999), ('The Help', 8.1, 2011), ('Dersu Uzala', 8.2, 1975), ('Aladdin', 8.0, 1992), ('Gandhi', 8.0, 1982), ('Dances with Wolves', 8.0, 1990)]\n"
     ]
    }
   ],
   "source": [
    "#Using a zip function to combine list of of information into single list of movie records.\n",
    "titles = df['name']\n",
    "ratings = df['rating']\n",
    "release_years = df['year']\n",
    "\n",
    "movies = list(zip(titles, ratings, release_years))\n",
    "print(movies)\n",
    "\n"
   ]
  },
  {
   "cell_type": "code",
   "execution_count": 13,
   "metadata": {},
   "outputs": [
    {
     "name": "stdout",
     "output_type": "stream",
     "text": [
      "1                    The Godfather\n",
      "3            The Godfather Part II\n",
      "4                     12 Angry Men\n",
      "7                     Pulp Fiction\n",
      "22                     City of God\n",
      "37              American History X\n",
      "79     Once Upon a Time in America\n",
      "106                       Scarface\n",
      "109          To Kill a Mockingbird\n",
      "115                    Taxi Driver\n",
      "134                         Casino\n",
      "228                       La haine\n",
      "237                 Cool Hand Luke\n",
      "239                  The 400 Blows\n",
      "Name: name, dtype: object\n"
     ]
    }
   ],
   "source": [
    "# Filter your dataset based on the genre column\n",
    "genre = 'Crime,Drama'\n",
    "C_D_movies = df.loc[df['genre'] == genre]\n",
    "\n",
    "#print the list of Crime movies\n",
    "\n",
    "print(C_D_movies['name'])\n",
    "#for title in C_D_movies['name']:\n",
    "    #print(title)"
   ]
  },
  {
   "cell_type": "code",
   "execution_count": 15,
   "metadata": {},
   "outputs": [
    {
     "name": "stdout",
     "output_type": "stream",
     "text": [
      "[1934, 1935, 1936, 1937, 1938, 1939, 1940, 1941, 1942, 1943, 1944, 1945, 1946, 1947, 1948, 1949, 1950, 1951, 1952, 1953, 1954, 1955, 1956, 1957, 1958, 1959, 1960, 1961, 1962, 1963, 1964, 1965, 1966, 1967, 1968, 1969, 1970, 1971, 1972, 1973, 1974, 1975, 1976, 1977, 1978, 1979, 1980, 1981, 1982, 1983, 1984, 1985, 1986, 1987, 1988, 1989, 1990, 1991, 1992, 1993, 1994, 1995, 1996, 1997, 1998, 1999, 2000, 2001, 2002, 2003, 2004, 2005, 2006, 2007, 2008, 2009, 2010, 2011, 2012, 2013, 2014, 2015, 2016, 2017, 2018, 2019, 2020, 2021, 2022]\n"
     ]
    }
   ],
   "source": [
    "#listing the years of release for my movies data starting from 1934 and ending at 2022:\n",
    "years =  list(range(1934, 2023))\n",
    "print(years)"
   ]
  }
 ],
 "metadata": {
  "interpreter": {
   "hash": "aee8b7b246df8f9039afb4144a1f6fd8d2ca17a180786b69acc140d282b71a49"
  },
  "kernelspec": {
   "display_name": "Python 3.10.4 64-bit",
   "language": "python",
   "name": "python3"
  },
  "language_info": {
   "codemirror_mode": {
    "name": "ipython",
    "version": 3
   },
   "file_extension": ".py",
   "mimetype": "text/x-python",
   "name": "python",
   "nbconvert_exporter": "python",
   "pygments_lexer": "ipython3",
   "version": "3.10.4"
  },
  "orig_nbformat": 4
 },
 "nbformat": 4,
 "nbformat_minor": 2
}
