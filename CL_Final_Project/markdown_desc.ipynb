{
 "cells": [
  {
   "cell_type": "code",
   "execution_count": null,
   "metadata": {},
   "outputs": [],
   "source": []
  },
  {
   "cell_type": "markdown",
   "metadata": {},
   "source": [
    "# This is my project that is from my movie database. I have chosen a top 250 movies that was released between 1934 to 2019.\n"
   ]
  },
  {
   "cell_type": "markdown",
   "metadata": {},
   "source": [
    "1. First I have made an dictionery in the main.ipynb file with 5 key value pairs that shows the detail information of the movie.\n",
    "2. Then I use a drop function to remove the unwanted rows or column from my data. In this case I removes the not rated rows from my dataset.\n",
    "3. I used 5 built-in functions like len(), any(), zip(), loc(), and lastly range(). These all have their own functions.\n",
    "4. I used Matplotlib for ploting my datas. I took a certificate and year column for plotting my data and then I took rating and year for the second plot. You can see certificate at x-axis, and year on the y-axis in the first plot. And year on the y-axis and rating on the x-axis for the second plot.\n",
    "I chose plottiing in scatter format because I love using that plotting.\n",
    "\n",
    "I have not well done in this project since, this is my first experience doing pandas, numpy and plotting. But I can say I have learnt so many things and I am still learing. And I enjoyed the whole proces."
   ]
  }
 ],
 "metadata": {
  "interpreter": {
   "hash": "aee8b7b246df8f9039afb4144a1f6fd8d2ca17a180786b69acc140d282b71a49"
  },
  "kernelspec": {
   "display_name": "Python 3.10.4 64-bit",
   "language": "python",
   "name": "python3"
  },
  "language_info": {
   "name": "python",
   "version": "3.10.4"
  },
  "orig_nbformat": 4
 },
 "nbformat": 4,
 "nbformat_minor": 2
}
